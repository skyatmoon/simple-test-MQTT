{
 "cells": [
  {
   "cell_type": "code",
   "execution_count": 1,
   "metadata": {},
   "outputs": [],
   "source": [
    "import paho.mqtt.client as mqtt\n",
    "import time\n",
    "import numpy as np\n",
    "import matplotlib.pyplot as plt\n",
    "import datetime\n",
    "import sys\n",
    "import math\n",
    "import statistics"
   ]
  },
  {
   "cell_type": "code",
   "execution_count": 2,
   "metadata": {},
   "outputs": [],
   "source": [
    "# the buffer list for 3 slow QoS\n",
    "slow_buffer_q0 = [] # buffer save the message got\n",
    "slow_time_q0 = [] # buffer save the message time\n",
    "slow_buffer_q1 = []\n",
    "slow_time_q1 = []\n",
    "slow_buffer_q2 = []\n",
    "slow_time_q2 = []\n",
    "# the 3 $SYS for slow QoS\n",
    "slow_5min = [] # buffer save the SYS message\n",
    "slow_time_5min =[] # buffer save the time\n",
    "slow_count = []\n",
    "slow_time_count =[]\n",
    "slow_current = []# for current_size\n",
    "slow_time_current = []\n",
    "# the buffer list for 3 fast QoS\n",
    "fast_buffer_q0 = []\n",
    "fast_time_q0 = []\n",
    "fast_buffer_q1 = []\n",
    "fast_time_q1 = []\n",
    "fast_buffer_q2 = []\n",
    "fast_time_q2 = []\n",
    "# the 3 $SYS for fast QoS\n",
    "fast_5min = []\n",
    "fast_time_5min = []\n",
    "fast_count = []\n",
    "fast_time_count = []\n",
    "fast_current = []\n",
    "fast_time_current = []\n",
    "\n",
    "connect_time = 301"
   ]
  },
  {
   "cell_type": "markdown",
   "metadata": {},
   "source": [
    "connecting functions"
   ]
  },
  {
   "cell_type": "code",
   "execution_count": 3,
   "metadata": {},
   "outputs": [],
   "source": [
    "def slow_connect(client, userdata, flags, rc):\n",
    "    print(\"Now connect with 3 $SYS/\")#subscribe the $SYS for 5min,count & current\n",
    "    client.subscribe(\"$SYS/broker/load/publish/sent/5min\")\n",
    "    client.subscribe(\"$SYS/broker/retained messages/count\")\n",
    "    client.subscribe(\"$SYS/broker/heap/current\")\n",
    "    print(\"Now connect with 3 slow QoS\")#as professor said in disscussion form, can subscribe 3 QoS at \n",
    "                                        #one time with its QoS, to compare them with the same data and time\n",
    "    client.subscribe(\"counter/slow/q0\",0)# subscribe q0 with my QoS=0\n",
    "    client.subscribe(\"counter/slow/q1\",1)# subscribe q1 with my QoS=1\n",
    "    client.subscribe(\"counter/slow/q2\",2)# subscribe q2 with my QoS=2\n",
    "def fast_connect(client, userdata, flags, rc):\n",
    "    print(\"Now connect with 3 $SYS/\")#subscribe the $SYS for 5min,count & current\n",
    "    client.subscribe(\"$SYS/broker/load/publish/sent/5min\")\n",
    "    client.subscribe(\"$SYS/broker/retained messages/count\")\n",
    "    client.subscribe(\"$SYS/broker/heap/current\")\n",
    "    print(\"Now connect with 3 fast QoS\")#as professor said in disscussion form, can subscribe 3 QoS at \n",
    "                                        #one time with its QoS, to compare them with the same data and time\n",
    "    client.subscribe(\"counter/fast/q0\",0)# subscribe q0 with my QoS=0\n",
    "    client.subscribe(\"counter/fast/q1\",1)# subscribe q1 with my QoS=1\n",
    "    client.subscribe(\"counter/fast/q2\",2)# subscribe q2 with my QoS=2"
   ]
  },
  {
   "cell_type": "markdown",
   "metadata": {},
   "source": [
    "on messages part"
   ]
  },
  {
   "cell_type": "code",
   "execution_count": 4,
   "metadata": {},
   "outputs": [],
   "source": [
    "\n",
    "def slow_message(client, userdata, msg):\n",
    "\n",
    "    if msg.payload.hex() != \"636c6f7365\":#to avoid the \"close\" message\n",
    "        if \"counter/slow/q0\"== msg.topic:#got q0 message\n",
    "            slow_buffer_q0.append(str(msg.payload).split(\"'\")[1])#translate from bytes to string to save\n",
    "            slow_time_q0.append(msg.timestamp)#save the timestamp\n",
    "        elif \"counter/slow/q1\"== msg.topic:#got q1 message\n",
    "            slow_buffer_q1.append(str(msg.payload).split(\"'\")[1])\n",
    "            slow_time_q1.append(msg.timestamp)\n",
    "        elif \"counter/slow/q2\"== msg.topic:#got q2 message\n",
    "            slow_buffer_q2.append(str(msg.payload).split(\"'\")[1])\n",
    "            slow_time_q2.append(msg.timestamp)\n",
    "        elif \"$SYS/broker/load/publish/sent/5min\"== msg.topic:#got SYS-5min\n",
    "            slow_5min.append(str(msg.payload).split(\"'\")[1])\n",
    "            slow_time_5min.append(msg.timestamp)\n",
    "        elif \"$SYS/broker/retained messages/count\"== msg.topic:#got SYS-count\n",
    "            slow_count.append(str(msg.payload).split(\"'\")[1])\n",
    "            slow_time_count.append(msg.timestamp)\n",
    "        elif \"$SYS/broker/heap/current\"== msg.topic:#got SYS-current_size\n",
    "            slow_current.append(str(msg.payload).split(\"'\")[1])\n",
    "            slow_time_current.append(msg.timestamp)\n",
    "        else: #this time got a null message\n",
    "            print(\"Get nothing\")\n",
    "    else:# oh, got the \"close\"\n",
    "        print(\"Got \\\"close\\\" on :\"+ msg.topic)\n",
    "        \n",
    "def fast_message(client, userdata, msg):\n",
    "\n",
    "    if msg.payload.hex() != \"636c6f7365\":\n",
    "        if \"counter/fast/q0\"== msg.topic:\n",
    "            fast_buffer_q0.append(str(msg.payload).split(\"'\")[1])\n",
    "            fast_time_q0.append(msg.timestamp)\n",
    "        elif \"counter/fast/q1\"== msg.topic:\n",
    "            fast_buffer_q1.append(str(msg.payload).split(\"'\")[1])\n",
    "            fast_time_q1.append(msg.timestamp)\n",
    "        elif \"counter/fast/q2\"== msg.topic:\n",
    "            fast_buffer_q2.append(str(msg.payload).split(\"'\")[1])\n",
    "            fast_time_q2.append(msg.timestamp)\n",
    "        elif \"$SYS/broker/load/publish/sent/5min\"== msg.topic:\n",
    "            fast_5min.append(str(msg.payload).split(\"'\")[1])\n",
    "            fast_time_5min.append(msg.timestamp)\n",
    "        elif \"$SYS/broker/retained messages/count\"== msg.topic:\n",
    "            fast_count.append(str(msg.payload).split(\"'\")[1])\n",
    "            fast_time_count.append(msg.timestamp)\n",
    "        elif \"$SYS/broker/heap/current\"== msg.topic:\n",
    "            fast_current.append(str(msg.payload).split(\"'\")[1])\n",
    "            fast_time_current.append(msg.timestamp)\n",
    "        else:\n",
    "            print(\"Get nothing\")\n",
    "    else:\n",
    "        print(\"Got \\\"close\\\" on :\"+ msg.topic)"
   ]
  },
  {
   "cell_type": "markdown",
   "metadata": {},
   "source": [
    "calculate part"
   ]
  },
  {
   "cell_type": "code",
   "execution_count": 5,
   "metadata": {},
   "outputs": [],
   "source": [
    "\n",
    "def report_results(buffer, time, connect_time):\n",
    "    # something I need in this function\n",
    "    buffer = list(map(int, buffer))#translate the string message to int\n",
    "    gap_std=[]#save gap validation\n",
    "    no_dup = sorted(set(buffer))#no duplicate total number\n",
    "    no_dup_num = len(no_dup)\n",
    "    ooo_num = 0\n",
    "    loss_num = 0\n",
    "    gap_num = 0\n",
    "    gap = 0\n",
    "    # Initialization result, if no message is received, return -1\n",
    "    recieve_rate = -1\n",
    "    loss_rate = -1\n",
    "    duplicate_rate = -1\n",
    "    ooo_rate = -1\n",
    "    gap_mean = -1\n",
    "    gap_variation = -1\n",
    "    #AVG rate of recieve message\n",
    "    rec_num = len(buffer)\n",
    "    recieve_rate = round(rec_num/connect_time,5)\n",
    "    \n",
    "    # make a time gap list\n",
    "    if len(buffer) != 0:# message is not null, else return -1\n",
    "        for m in range(0,len(time)-1):\n",
    "            if (buffer[m+1]-buffer[m] == 1) or (buffer[m+1]-buffer[m] == max(buffer)-min(buffer)):\n",
    "                a = round((time[m+1]-time[m])*1000)#total gap time\n",
    "                # calculate the time gap between packets\n",
    "                gap_num +=1\n",
    "                gap +=a\n",
    "                gap_std.append(a)\n",
    "\n",
    "            elif (buffer[m+1]-buffer[m] < 0) and (buffer[m+1]-buffer[m] != max(buffer)-min(buffer)):\n",
    "                # calculate the ooo num\n",
    "                ooo_num += 1\n",
    "            elif buffer[m+1]-buffer[m] == 0:\n",
    "                # if it is duplicate, let the last one's timestamp same as before to ignor the duplicate one \n",
    "                time[m+1] = time[m]\n",
    "\n",
    "            if (buffer[m+1]-buffer[m] > 1) and (buffer[m+1]-buffer[m] != max(buffer)-min(buffer)):\n",
    "                # calculate the loss\n",
    "                loss_num += (buffer[m+1] - buffer[m] - 1)\n",
    "\n",
    "        # calculate gap mean\n",
    "        \"\"\"\n",
    "        gap mean: I think gap_mean is the total time/the total gap number\n",
    "        \"\"\"\n",
    "        if gap_num>=1:#need got more than one message to count mean\n",
    "            gap_mean = round(gap/gap_num, 5)\n",
    "        else:# no enough messages\n",
    "            gap_mean = \"This time, not have any consecutive message\"\n",
    "            \n",
    "        # calculate gap variation\n",
    "        \"\"\"\n",
    "        gap_variation: Standard deviation of the mean\n",
    "        \"\"\"\n",
    "        if len(gap_std)>=2:#need got more than two messages to count std\n",
    "            gap_variation = round(statistics.stdev(gap_std), 5)\n",
    "        else:#not enough\n",
    "            gap_variation = \"This time, not have more than 2 consecutive message\"\n",
    "\n",
    "        # loss rate\n",
    "        \"\"\"\n",
    "        loss: I think loss = (the larger after the smaller) - (the smaller before the larger) - 1 \n",
    "        and then got the mean of the total loss\n",
    "        Idea comes from discussion forum https://wattlecourses.anu.edu.au/mod/forum/discuss.php?d=617211\n",
    "        \"\"\"\n",
    "        loss_rate = round((loss_num)/(no_dup_num + loss_num), 5)\n",
    "\n",
    "        # out of order rate\n",
    "        \"\"\"\n",
    "        out of order rate: I think ooo = The current information is not less than 1 larger than the previous information.\n",
    "        Ignore the smaller one after the larger one\n",
    "        \"\"\"\n",
    "        ooo_rate = round((ooo_num)/(rec_num), 5)\n",
    "\n",
    "        # duplicate rate\n",
    "       \"\"\"\n",
    "       duplicate rate: the mean of the every duplicate rates in every 10s\n",
    "       10s time piece: from the first message got, every 10s as a group got a little duplicate rate\n",
    "       totally 300s = 30 groups\n",
    "       \"\"\"\n",
    "        lim = time[0]\n",
    "        dup_rate_total = 0\n",
    "        dup_num = 0\n",
    "    ## if you want to test any 10s to see a duplicate rate, plase tyr these codes    \n",
    "#         for i in range(0, len(time)-1):# this can count any 10s value of dup but too slow, 1 fast will cost 6min to count in my PC\n",
    "#             ten_s_buff = []\n",
    "#             for j in range(0,len(time)-1-i):\n",
    "#                 if time[i+j] <= lim+10:\n",
    "#                     ten_s_buff.append(buffer[i+j])\n",
    "#                 else:\n",
    "#                     lim = time[i] + 10\n",
    "#                     i = i - 1;\n",
    "#                     ten_s_buff = []\n",
    "#             whole_num = len(ten_s_buff)\n",
    "#             dup_num = whole_num - len(set(ten_s_buff))\n",
    "#             dup_rate_total += round((dup_num/whole_num),5)\n",
    "#             k+=1\n",
    "#         duplicate_rate= round(dup_rate_total/k, 5)\n",
    "        ten_s_buff = []\n",
    "        for i in range(0,len(time)-1):\n",
    "            if time[i] <= lim+10:\n",
    "                ten_s_buff.append(buffer[i])#memory the 10s little group \n",
    "            else:\n",
    "                lim = time[i] + 10# change to the next 10s\n",
    "                i = i - 1;\n",
    "                ten_s_buff = []\n",
    "            whole_num = len(ten_s_buff)\n",
    "            if(whole_num>0):\n",
    "                dup_num = whole_num - len(set(ten_s_buff))\n",
    "                dup_rate_total += round((dup_num/whole_num),5)\n",
    "        duplicate_rate= round(dup_rate_total/(connect_time/30), 5)\n",
    "\n",
    "    \n",
    "    # prtint and report the reults\n",
    "    print('recieve rate: ', recieve_rate)\n",
    "    print(\"loss rate:\", loss_rate*100 , \"%\")    \n",
    "    print(\"duplicate rate: \", duplicate_rate*100, \"%\")\n",
    "    print(\"out of order rate:\", ooo_rate*100 , \"%\")\n",
    "    print(\"gap mean: \",gap_mean)\n",
    "    print(\"gap variation: \",gap_variation)\n",
    "    print(\"\\n\")\n",
    "    return recieve_rate,loss_rate,duplicate_rate,ooo_rate,gap_mean,gap_variation"
   ]
  },
  {
   "cell_type": "code",
   "execution_count": 6,
   "metadata": {},
   "outputs": [],
   "source": [
    "def report_plot(buffer, time, topic):# draw the line plot for every SYS topic I intrested\n",
    "    buffer = list(map(float, buffer))\n",
    "    plt.title(topic+'-time')\n",
    "    plt.plot(time, buffer, \"-.o\", color='red',linewidth=2.0,)\n",
    "    plt.xlabel(\"time\")\n",
    "    plt.ylabel(topic)\n",
    "    plt.show()"
   ]
  },
  {
   "cell_type": "code",
   "execution_count": 7,
   "metadata": {
    "scrolled": true
   },
   "outputs": [
    {
     "name": "stdout",
     "output_type": "stream",
     "text": [
      "Now connect with 3 $SYS/\n",
      "Now connect with 3 slow QoS\n"
     ]
    }
   ],
   "source": [
    "# create the client_slow to connect all three slow QoS at one time and run for 5 min\n",
    "client_slow = mqtt.Client(client_id='3310-u6693651', clean_session=True, userdata=None)\n",
    "client_slow.username_pw_set(username='students', password='33106331')\n",
    "client_slow.connect(\"comp3310.ddns.net\")\n",
    "\n",
    "\n",
    "client_slow.on_connect = slow_connect\n",
    "client_slow.on_message = slow_message\n",
    "\n",
    "startTime = datetime.datetime.now()\n",
    "\n",
    "while True:\n",
    "    client_slow.loop()\n",
    "    elapsedTime = datetime.datetime.now() - startTime\n",
    "    if elapsedTime.seconds > connect_time:\n",
    "        client_slow.disconnect()# free my 3 QoS! not, will let the fast_client not work\n",
    "        break"
   ]
  },
  {
   "cell_type": "code",
   "execution_count": 8,
   "metadata": {},
   "outputs": [
    {
     "name": "stdout",
     "output_type": "stream",
     "text": [
      "### SLOW-RESULT ###\n",
      "    ****q0****\n",
      "recieve rate:  1.0\n",
      "loss rate: 0.0 %\n",
      "duplicate rate:  0.0 %\n",
      "out of order rate: 0.0 %\n",
      "gap mean:  1001.58333\n",
      "gap variation:  222.0461\n",
      "\n",
      "\n",
      "    ****q1****\n",
      "recieve rate:  0.99668\n",
      "loss rate: 0.0 %\n",
      "duplicate rate:  0.0 %\n",
      "out of order rate: 0.0 %\n",
      "gap mean:  1001.58194\n",
      "gap variation:  222.3748\n",
      "\n",
      "\n",
      "    ****q2****\n",
      "recieve rate:  0.99668\n",
      "loss rate: 0.0 %\n",
      "duplicate rate:  0.0 %\n",
      "out of order rate: 0.0 %\n",
      "gap mean:  1001.60535\n",
      "gap variation:  240.46733\n",
      "\n",
      "\n"
     ]
    },
    {
     "data": {
      "image/png": "[encoded data removed]",
      "text/plain": [
       "<Figure size 432x288 with 1 Axes>"
      ]
     },
     "metadata": {
      "needs_background": "light"
     },
     "output_type": "display_data"
    },
    {
     "data": {
      "image/png": "[encoded data removed]",
      "text/plain": [
       "<Figure size 432x288 with 1 Axes>"
      ]
     },
     "metadata": {
      "needs_background": "light"
     },
     "output_type": "display_data"
    },
    {
     "data": {
      "image/png": "[encoded data removed]",
      "text/plain": [
       "<Figure size 432x288 with 1 Axes>"
      ]
     },
     "metadata": {
      "needs_background": "light"
     },
     "output_type": "display_data"
    }
   ],
   "source": [
    "# slow-q0\n",
    "print(\"### SLOW-RESULT ###\")\n",
    "print(\"    ****q0****\")\n",
    "rs1,ls1,ds1,os1,gms1,gvs1 = report_results(slow_buffer_q0, slow_time_q0, connect_time)\n",
    "\n",
    "# slow-q1\n",
    "print(\"    ****q1****\")\n",
    "rs2,ls2,ds2,os2,gms2,gvs2 = report_results(slow_buffer_q1, slow_time_q1, connect_time)\n",
    "\n",
    "# slow-q2 \n",
    "print(\"    ****q2****\")\n",
    "rs3,ls3,ds3,os3,gms3,gvs3 = report_results(slow_buffer_q2, slow_time_q2, connect_time)\n",
    "\n",
    "# $SYS plots\n",
    "report_plot(slow_5min,slow_time_5min,\"5min\")\n",
    "report_plot(slow_count,slow_time_count,\"count\")\n",
    "report_plot(slow_current,slow_time_current,\"current_size\")"
   ]
  },
  {
   "cell_type": "code",
   "execution_count": 9,
   "metadata": {
    "scrolled": true
   },
   "outputs": [
    {
     "name": "stdout",
     "output_type": "stream",
     "text": [
      "Now connect with 3 $SYS/\n",
      "Now connect with 3 fast QoS\n"
     ]
    }
   ],
   "source": [
    "# create the client_fast to connect all three slow QoS at one time and run for 5 min\n",
    "client_fast = mqtt.Client(client_id='3310-u6693651', clean_session=True, userdata=None)\n",
    "client_fast.username_pw_set(username='students', password='33106331')\n",
    "client_fast.connect(\"comp3310.ddns.net\")\n",
    "\n",
    "client_fast.on_connect = fast_connect\n",
    "client_fast.on_message = fast_message\n",
    "\n",
    "startTime = datetime.datetime.now()\n",
    "\n",
    "while True:\n",
    "    client_fast.loop()\n",
    "    elapsedTime = datetime.datetime.now() - startTime\n",
    "    if elapsedTime.seconds > connect_time:\n",
    "        client_fast.disconnect()\n",
    "        break\n",
    "\n"
   ]
  },
  {
   "cell_type": "code",
   "execution_count": 10,
   "metadata": {},
   "outputs": [
    {
     "name": "stdout",
     "output_type": "stream",
     "text": [
      "### FAST-RESULT ###\n",
      "    ****q0****\n",
      "recieve rate:  93.60797\n",
      "loss rate: 0.0 %\n",
      "duplicate rate:  0.0 %\n",
      "out of order rate: 0.0 %\n",
      "gap mean:  10.60731\n",
      "gap variation:  47.94278\n",
      "\n",
      "\n",
      "    ****q1****\n",
      "recieve rate:  14.7309\n",
      "loss rate: 84.08099999999999 %\n",
      "duplicate rate:  0.0 %\n",
      "out of order rate: 0.0 %\n",
      "gap mean:  61.26171\n",
      "gap variation:  168.74412\n",
      "\n",
      "\n",
      "    ****q2****\n",
      "recieve rate:  13.06645\n",
      "loss rate: 85.857 %\n",
      "duplicate rate:  0.0 %\n",
      "out of order rate: 0.0 %\n",
      "gap mean:  71.25421\n",
      "gap variation:  185.96439\n",
      "\n",
      "\n"
     ]
    },
    {
     "data": {
      "image/png": "[encoded data removed]",
      "text/plain": [
       "<Figure size 432x288 with 1 Axes>"
      ]
     },
     "metadata": {
      "needs_background": "light"
     },
     "output_type": "display_data"
    },
    {
     "data": {
      "image/png": "[encoded data removed]",
      "text/plain": [
       "<Figure size 432x288 with 1 Axes>"
      ]
     },
     "metadata": {
      "needs_background": "light"
     },
     "output_type": "display_data"
    },
    {
     "data": {
      "image/png": "[encoded data removed]",
      "text/plain": [
       "<Figure size 432x288 with 1 Axes>"
      ]
     },
     "metadata": {
      "needs_background": "light"
     },
     "output_type": "display_data"
    }
   ],
   "source": [
    "print(\"### FAST-RESULT ###\")\n",
    "print(\"    ****q0****\")\n",
    "rf1,lf1,df1,of1,gmf1,gvf1 = report_results(fast_buffer_q0, fast_time_q0, connect_time)\n",
    "\n",
    "# slow/q1\n",
    "print(\"    ****q1****\")\n",
    "rf2,lf2,df2,of2,gmf2,gvf2 = report_results(fast_buffer_q1, fast_time_q1, connect_time)\n",
    "\n",
    "# slow/q2 \n",
    "print(\"    ****q2****\")\n",
    "rf3,lf3,df3,of3,gmf3,gvf3 = report_results(fast_buffer_q2, fast_time_q2, connect_time)\n",
    "\n",
    "# $SYS plots\n",
    "report_plot(fast_5min,fast_time_5min,\"5min\")\n",
    "report_plot(fast_count,fast_time_count,\"count\")\n",
    "report_plot(fast_current,fast_time_current,\"current_size\")"
   ]
  },
  {
   "cell_type": "code",
   "execution_count": 11,
   "metadata": {},
   "outputs": [
    {
     "data": {
      "text/plain": [
       "0"
      ]
     },
     "execution_count": 11,
     "metadata": {},
     "output_type": "execute_result"
    }
   ],
   "source": [
    "client = mqtt.Client(client_id='3310-u6693651', clean_session=True, userdata=None,protocol=mqtt.MQTTv311, transport=\"tcp\")\n",
    "client.username_pw_set(username='students', password='33106331')\n",
    "client.connect(\"comp3310.ddns.net\")\n",
    "client.loop_start()\n",
    "# My computer's Qos=2 is not work, I don't know why, but qos=1 still ok here\n",
    "\n",
    "client.publish(\"studentreport/u6693651/language\",\"python 3.7.4 64-bit\",qos=1,retain=True)\n",
    "client.publish(\"studentreport/u6693651/network\",\"wifi 3Mbps\",qos=1,retain=True)\n",
    "client.publish(\"studentreport/u6693651/location\",\"ACT, Canberra, Australia\",qos=1,retain=True)\n",
    "\n",
    "client.publish(\"studentreport/u6693651/slow/0/recv\",rs1,qos=1,retain=True)\n",
    "client.publish(\"studentreport/u6693651/slow/0/loss\",str(ls1*100)+\"%\",qos=1,retain=True)\n",
    "client.publish(\"studentreport/u6693651/slow/0/dupe\",str(ds1*100)+\"%\",qos=1,retain=True)\n",
    "client.publish(\"studentreport/u6693651/slow/0/ooo\",str(os1*100)+\"%\",qos=1,retain=True)\n",
    "client.publish(\"studentreport/u6693651/slow/0/gap\",gms1,qos=1,retain=True)\n",
    "client.publish(\"studentreport/u6693651/slow/0/gvar\",gvs1,qos=1,retain=True)\n",
    "\n",
    "client.publish(\"studentreport/u6693651/slow/1/recv\",rs2,qos=1,retain=True)\n",
    "client.publish(\"studentreport/u6693651/slow/1/loss\",str(ls2*100)+\"%\",qos=1,retain=True)\n",
    "client.publish(\"studentreport/u6693651/slow/1/dupe\",str(ds2*100)+\"%\",qos=1,retain=True)\n",
    "client.publish(\"studentreport/u6693651/slow/1/ooo\",str(os2*100)+\"%\",qos=1,retain=True)\n",
    "client.publish(\"studentreport/u6693651/slow/1/gap\",gms2,qos=1,retain=True)\n",
    "client.publish(\"studentreport/u6693651/slow/1/gvar\",gvs2,qos=1,retain=True)\n",
    "\n",
    "client.publish(\"studentreport/u6693651/slow/2/recv\",rs3,qos=1,retain=True)\n",
    "client.publish(\"studentreport/u6693651/slow/2/loss\",str(ls3*100)+\"%\",qos=1,retain=True)\n",
    "client.publish(\"studentreport/u6693651/slow/2/dupe\",str(ds3*100)+\"%\",qos=1,retain=True)\n",
    "client.publish(\"studentreport/u6693651/slow/2/ooo\",str(os3*100)+\"%\",qos=1,retain=True)\n",
    "client.publish(\"studentreport/u6693651/slow/2/gap\",gms3,qos=1,retain=True)\n",
    "client.publish(\"studentreport/u6693651/slow/2/gvar\",gvs3,qos=1,retain=True)\n",
    "\n",
    "client.publish(\"studentreport/u6693651/fast/0/recv\",rf1,qos=1,retain=True)\n",
    "client.publish(\"studentreport/u6693651/fast/0/loss\",str(lf1*100)+\"%\",qos=1,retain=True)\n",
    "client.publish(\"studentreport/u6693651/fast/0/dupe\",str(df1*100)+\"%\",qos=1,retain=True)\n",
    "client.publish(\"studentreport/u6693651/fast/0/ooo\",str(of1*100)+\"%\",qos=1,retain=True)\n",
    "client.publish(\"studentreport/u6693651/fast/0/gap\",gmf1,qos=1,retain=True)\n",
    "client.publish(\"studentreport/u6693651/fast/0/gvar\",gvf1,qos=1,retain=True)\n",
    "\n",
    "client.publish(\"studentreport/u6693651/fast/1/recv\",rf2,qos=1,retain=True)\n",
    "client.publish(\"studentreport/u6693651/fast/1/loss\",str(lf2*100)+\"%\",qos=1,retain=True)\n",
    "client.publish(\"studentreport/u6693651/fast/1/dupe\",str(df2*100)+\"%\",qos=1,retain=True)\n",
    "client.publish(\"studentreport/u6693651/fast/1/ooo\",str(of2*100)+\"%\",qos=1,retain=True)\n",
    "client.publish(\"studentreport/u6693651/fast/1/gap\",gmf2,qos=1,retain=True)\n",
    "client.publish(\"studentreport/u6693651/fast/1/gvar\",gvf2,qos=1,retain=True)\n",
    "\n",
    "client.publish(\"studentreport/u6693651/fast/2/recv\",rf3,qos=1,retain=True)\n",
    "client.publish(\"studentreport/u6693651/fast/2/loss\",str(lf3*100)+\"%\",qos=1,retain=True)\n",
    "client.publish(\"studentreport/u6693651/fast/2/dupe\",str(df3*100)+\"%\",qos=1,retain=True)\n",
    "client.publish(\"studentreport/u6693651/fast/2/ooo\",str(of3*100)+\"%\",qos=1,retain=True)\n",
    "client.publish(\"studentreport/u6693651/fast/2/gap\",gmf3,qos=1,retain=True)\n",
    "client.publish(\"studentreport/u6693651/fast/2/gvar\",gvf3,qos=1,retain=True)\n",
    "\n",
    "time.sleep(10) # make sure the message can publish\n",
    "client.loop_stop()\n",
    "client.disconnect()\n",
    "# all done!"
   ]
  },
  {
   "cell_type": "code",
   "execution_count": null,
   "metadata": {},
   "outputs": [],
   "source": []
  }
 ],
 "metadata": {
  "kernelspec": {
   "display_name": "Python 3",
   "language": "python",
   "name": "python3"
  },
  "language_info": {
   "codemirror_mode": {
    "name": "ipython",
    "version": 3
   },
   "file_extension": ".py",
   "mimetype": "text/x-python",
   "name": "python",
   "nbconvert_exporter": "python",
   "pygments_lexer": "ipython3",
   "version": "3.7.4"
  }
 },
 "nbformat": 4,
 "nbformat_minor": 4
}
